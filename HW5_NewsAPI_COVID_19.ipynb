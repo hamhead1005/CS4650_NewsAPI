{
  "nbformat": 4,
  "nbformat_minor": 0,
  "metadata": {
    "colab": {
      "name": "HW5 NewsAPI COVID-19.ipynb",
      "provenance": [],
      "collapsed_sections": [],
      "authorship_tag": "ABX9TyMhQWTze9zJQ6HRm1KW+3LG",
      "include_colab_link": true
    },
    "kernelspec": {
      "name": "python3",
      "display_name": "Python 3"
    },
    "language_info": {
      "name": "python"
    }
  },
  "cells": [
    {
      "cell_type": "markdown",
      "metadata": {
        "id": "view-in-github",
        "colab_type": "text"
      },
      "source": [
        "<a href=\"https://colab.research.google.com/github/hamhead1005/CS4650_NewsAPI/blob/main/HW5_NewsAPI_COVID_19.ipynb\" target=\"_parent\"><img src=\"https://colab.research.google.com/assets/colab-badge.svg\" alt=\"Open In Colab\"/></a>"
      ]
    },
    {
      "cell_type": "code",
      "metadata": {
        "id": "SctV8sq1Zey6"
      },
      "source": [
        "!pip install spacy\n",
        "!pip install newsapi-python\n",
        "!pip install fsspec\n",
        "\n",
        "!python -m spacy download en_core_web_lg"
      ],
      "execution_count": null,
      "outputs": []
    },
    {
      "cell_type": "code",
      "metadata": {
        "id": "r6dQuPQop_IO"
      },
      "source": [
        "#import libraries\n",
        "import spacy\n",
        "import en_core_web_lg\n",
        "from newsapi import NewsApiClient\n",
        "import pickle\n",
        "import pandas as pd\n",
        "import json\n",
        "import csv\n",
        "\n",
        "\n",
        "#Init\n",
        "nlp_eng = en_core_web_lg.load()\n",
        "newsapi = NewsApiClient(api_key='7bef5d9d4d264caa9ad22d03964aa8b5')\n",
        "\n",
        "#Get All Articles\n",
        "data = newsapi.get_everything(q='CoronaVirus',language='en', from_param='2021-09-20', to='2021-10-15', sort_by='relevancy')\n",
        "\n",
        "#Save as CSV (EXCEL)\n",
        "articles_list = data['articles']\n",
        "df = pd.DataFrame.from_dict(articles_list)\n",
        "df.to_csv('COVIDArticles.csv')"
      ],
      "execution_count": null,
      "outputs": []
    }
  ]
}